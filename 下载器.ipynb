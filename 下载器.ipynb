{
  "nbformat": 4,
  "nbformat_minor": 0,
  "metadata": {
    "colab": {
      "name": "下载器.ipynb",
      "provenance": [],
      "collapsed_sections": [
        "UyNiSA0xblYK",
        "qRXkZ4H5bZGe",
        "dYzilDozTHR6",
        "IiklFSCN0evr"
      ],
      "toc_visible": true,
      "include_colab_link": true
    },
    "kernelspec": {
      "name": "python3",
      "display_name": "Python 3"
    },
    "accelerator": "GPU"
  },
  "cells": [
    {
      "cell_type": "markdown",
      "metadata": {
        "id": "view-in-github",
        "colab_type": "text"
      },
      "source": [
        "<a href=\"https://colab.research.google.com/github/maxinwx/My_temp/blob/master/%E4%B8%8B%E8%BD%BD%E5%99%A8.ipynb\" target=\"_parent\"><img src=\"https://colab.research.google.com/assets/colab-badge.svg\" alt=\"Open In Colab\"/></a>"
      ]
    },
    {
      "cell_type": "code",
      "metadata": {
        "id": "rYMTRxXEXive",
        "colab_type": "code",
        "outputId": "3792961a-1bba-4400-bd95-636d753a4309",
        "colab": {
          "base_uri": "https://localhost:8080/",
          "height": 121
        }
      },
      "source": [
        "from google.colab import drive\n",
        "drive.mount('/content/drive')"
      ],
      "execution_count": 0,
      "outputs": [
        {
          "output_type": "stream",
          "text": [
            "Go to this URL in a browser: https://accounts.google.com/o/oauth2/auth?client_id=947318989803-6bn6qk8qdgf4n4g3pfee6491hc0brc4i.apps.googleusercontent.com&redirect_uri=urn%3aietf%3awg%3aoauth%3a2.0%3aoob&response_type=code&scope=email%20https%3a%2f%2fwww.googleapis.com%2fauth%2fdocs.test%20https%3a%2f%2fwww.googleapis.com%2fauth%2fdrive%20https%3a%2f%2fwww.googleapis.com%2fauth%2fdrive.photos.readonly%20https%3a%2f%2fwww.googleapis.com%2fauth%2fpeopleapi.readonly\n",
            "\n",
            "Enter your authorization code:\n",
            "··········\n",
            "Mounted at /content/drive\n"
          ],
          "name": "stdout"
        }
      ]
    },
    {
      "cell_type": "markdown",
      "metadata": {
        "id": "qRbVZsu8Z7J0",
        "colab_type": "text"
      },
      "source": [
        "# matplotlib在colab中使用中文字体的方法"
      ]
    },
    {
      "cell_type": "markdown",
      "metadata": {
        "id": "UyNiSA0xblYK",
        "colab_type": "text"
      },
      "source": [
        "## 方法1 在笔记本中使用Ubuntu命令下载字体，复制到特定文件夹中。\n",
        "不足：运行权被收回后，字体文件消失。下次使用需重新下载复制。"
      ]
    },
    {
      "cell_type": "markdown",
      "metadata": {
        "id": "5BKC9GaLKE1i",
        "colab_type": "text"
      },
      "source": [
        "\n",
        "过程参考：[Using external fonts in Google Colaboratory ](https://buomsoo-kim.github.io/colab/2018/04/27/Using-External-fonts-in-colab.md/)\n",
        "\n",
        "步骤：\n",
        "1. Obtain the source (url) of the font\n",
        "\n",
        "    To start with, you wil have to obtain the source of the external font you are trying to use. 如在[这里](https://www.google.co.kr/get/noto/)可以找到google提供的字体。\n",
        "    - search for the font that you are going to use. \n",
        "    - download and check if this is the font that you are going to use. \n",
        "\n",
        "2. Download font files\n",
        "\n",
        "    **We are going to use google colab like a Ubuntu terminal for the moment. So, Ubuntu commands such as wget, mv, unzip are going to be used.**\n",
        "\n",
        "    1. download the zip file (in this case, NotoSansCJKkr-hinted.zip) that contains font files.\n",
        "\n",
        "    ```Ubuntu\n",
        "    !wget \"source_of_your_target_file\"\n",
        "    ```\n",
        "\n",
        "    2.  Unzip font files(Note that if you have downloaded font file itself (i.e., not zipped), you do not have to unzip them.)\n",
        "\n",
        "    ```Ubuntu\n",
        "    !unzip \"your_file_name.zip\"\n",
        "    ```\n",
        "    3. move your font file to the font directory in Ubuntu environment. Use `!mv` command to move the file. In most cases you will get to move your font to `/usr/share/fonts/truetype`. Note that this will not do anything with your local environment!!!\n",
        "\n",
        "    ```Ubuntu\n",
        "    !mv \"your_font_file_name\" \"font_directory\"\n",
        "    ```\n",
        "3. Test if it works properly\n",
        "\n",
        "    Now the installation is finished. I will test by using installed Korean font in drawing a chart with matplotlib libary.\n",
        "\n",
        "    ```python\n",
        "    import matplotlib as mpl\n",
        "    import matplotlib.pyplot as plt\n",
        "    import matplotlib.font_manager as fm\n",
        "\n",
        "    # fetch the name of font that was installed\n",
        "    path = '/usr/share/fonts/truetype/your_font_name'\n",
        "    fontprop = fm.FontProperties(fname=path)\n",
        "    ```"
      ]
    },
    {
      "cell_type": "markdown",
      "metadata": {
        "id": "qRXkZ4H5bZGe",
        "colab_type": "text"
      },
      "source": [
        "## 实施过程："
      ]
    },
    {
      "cell_type": "code",
      "metadata": {
        "id": "ZVfqjAKTaRWJ",
        "colab_type": "code",
        "outputId": "223a3d61-47d6-4f69-90f7-238fe988d3d7",
        "colab": {
          "base_uri": "https://localhost:8080/",
          "height": 131
        }
      },
      "source": [
        "！wget \"https://aka.ms/win32-x64-user-insider\""
      ],
      "execution_count": 0,
      "outputs": [
        {
          "output_type": "error",
          "ename": "SyntaxError",
          "evalue": "ignored",
          "traceback": [
            "\u001b[0;36m  File \u001b[0;32m\"<ipython-input-1-1059d3dae408>\"\u001b[0;36m, line \u001b[0;32m1\u001b[0m\n\u001b[0;31m    ！wget \"https://aka.ms/win32-x64-user-insider\"\u001b[0m\n\u001b[0m        ^\u001b[0m\n\u001b[0;31mSyntaxError\u001b[0m\u001b[0;31m:\u001b[0m invalid character in identifier\n"
          ]
        }
      ]
    },
    {
      "cell_type": "code",
      "metadata": {
        "id": "g3TkmvPlzvIC",
        "colab_type": "code",
        "outputId": "d7513895-4772-4f23-ac18-c70db49f7cf4",
        "colab": {
          "base_uri": "https://localhost:8080/",
          "height": 235
        }
      },
      "source": [
        "!wget \"https://noto-website-2.storage.googleapis.com/pkgs/NotoSansCJKsc-hinted.zip\""
      ],
      "execution_count": 0,
      "outputs": [
        {
          "output_type": "stream",
          "text": [
            "--2019-10-18 13:39:13--  https://noto-website-2.storage.googleapis.com/pkgs/NotoSansCJKsc-hinted.zip\n",
            "Resolving noto-website-2.storage.googleapis.com (noto-website-2.storage.googleapis.com)... 108.177.120.128, 2607:f8b0:4001:c18::80\n",
            "Connecting to noto-website-2.storage.googleapis.com (noto-website-2.storage.googleapis.com)|108.177.120.128|:443... connected.\n",
            "HTTP request sent, awaiting response... 200 OK\n",
            "Length: 121063622 (115M) [application/zip]\n",
            "Saving to: ‘NotoSansCJKsc-hinted.zip’\n",
            "\n",
            "NotoSansCJKsc-hinte 100%[===================>] 115.46M  99.0MB/s    in 1.2s    \n",
            "\n",
            "2019-10-18 13:39:15 (99.0 MB/s) - ‘NotoSansCJKsc-hinted.zip’ saved [121063622/121063622]\n",
            "\n"
          ],
          "name": "stdout"
        }
      ]
    },
    {
      "cell_type": "code",
      "metadata": {
        "id": "90uFlKGWzx3B",
        "colab_type": "code",
        "outputId": "44c6e9c6-b4c9-490c-a157-a0d47537d26f",
        "colab": {
          "base_uri": "https://localhost:8080/",
          "height": 233
        }
      },
      "source": [
        "!unzip \"NotoSansCJKsc-hinted.zip\""
      ],
      "execution_count": 0,
      "outputs": [
        {
          "output_type": "stream",
          "text": [
            "Archive:  NotoSansCJKsc-hinted.zip\n",
            "  inflating: LICENSE_OFL.txt         \n",
            "  inflating: NotoSansCJKsc-Black.otf  \n",
            "  inflating: NotoSansCJKsc-Bold.otf  \n",
            "  inflating: NotoSansCJKsc-DemiLight.otf  \n",
            "  inflating: NotoSansCJKsc-Light.otf  \n",
            "  inflating: NotoSansCJKsc-Medium.otf  \n",
            "  inflating: NotoSansCJKsc-Regular.otf  \n",
            "  inflating: NotoSansCJKsc-Thin.otf  \n",
            "  inflating: NotoSansMonoCJKsc-Bold.otf  \n",
            "  inflating: NotoSansMonoCJKsc-Regular.otf  \n",
            "  inflating: README                  \n"
          ],
          "name": "stdout"
        }
      ]
    },
    {
      "cell_type": "code",
      "metadata": {
        "id": "7IViOmk3CQkr",
        "colab_type": "code",
        "colab": {}
      },
      "source": [
        "!mv NotoSansCJKsc-Regular.otf \"/usr/share/fonts/truetype\""
      ],
      "execution_count": 0,
      "outputs": []
    },
    {
      "cell_type": "code",
      "metadata": {
        "id": "PBDscxMLDiXW",
        "colab_type": "code",
        "outputId": "c4acacf3-ccfc-4aaf-cc20-ce4007b886fa",
        "colab": {
          "base_uri": "https://localhost:8080/",
          "height": 35
        }
      },
      "source": [
        "!ls /usr/share/fonts/truetype/"
      ],
      "execution_count": 0,
      "outputs": [
        {
          "output_type": "stream",
          "text": [
            "liberation  NotoSansCJKsc-Regular.otf\n"
          ],
          "name": "stdout"
        }
      ]
    },
    {
      "cell_type": "code",
      "metadata": {
        "id": "yooVGpABPZwh",
        "colab_type": "code",
        "outputId": "35133f2f-abc1-4cd3-e0c9-04df89aeb5ab",
        "colab": {
          "base_uri": "https://localhost:8080/",
          "height": 35
        }
      },
      "source": [
        "matplotlib.matplotlib_fname()"
      ],
      "execution_count": 0,
      "outputs": [
        {
          "output_type": "execute_result",
          "data": {
            "text/plain": [
              "'/usr/local/lib/python3.6/dist-packages/matplotlib/mpl-data/matplotlibrc'"
            ]
          },
          "metadata": {
            "tags": []
          },
          "execution_count": 57
        }
      ]
    },
    {
      "cell_type": "markdown",
      "metadata": {
        "id": "dYzilDozTHR6",
        "colab_type": "text"
      },
      "source": [
        "## 方法2 字体文件上传至google云盘，笔记本运行时“装载google云端硬盘”，使用云盘中保存的字体。"
      ]
    },
    {
      "cell_type": "markdown",
      "metadata": {
        "id": "y5pI1gHafDGw",
        "colab_type": "text"
      },
      "source": [
        "过程参考了[[知乎]colab读取google drive的文件](https://zhuanlan.zhihu.com/p/62138867)"
      ]
    },
    {
      "cell_type": "markdown",
      "metadata": {
        "id": "WlFpWsnLb6Ds",
        "colab_type": "text"
      },
      "source": [
        "## 实施过程："
      ]
    },
    {
      "cell_type": "markdown",
      "metadata": {
        "id": "_s7CWE3PcQzd",
        "colab_type": "text"
      },
      "source": [
        "1. 打开左侧窗格-->在“文件”选项卡的顶部工具栏中选择“装载google云端硬盘”。会出现如下单元格。根据提示运行之。"
      ]
    },
    {
      "cell_type": "code",
      "metadata": {
        "colab_type": "code",
        "id": "jk9bzUIZcJ-U",
        "colab": {}
      },
      "source": [
        "from google.colab import drive\n",
        "drive.mount('/content/drive')"
      ],
      "execution_count": 0,
      "outputs": []
    },
    {
      "cell_type": "markdown",
      "metadata": {
        "id": "vHmyd2owdErK",
        "colab_type": "text"
      },
      "source": [
        "2. 使用`!pwd`可获得当前工作目录。\n",
        "\n",
        "    通过`!ls`命令，可看到当前目录下多了个`drive`目录。其下的`My Drive'目录中的内容对应的就是云盘中的内容。\n",
        "\n",
        "3. 在云盘目录中复制字体文件的路径，在笔记本中可以引用。"
      ]
    },
    {
      "cell_type": "code",
      "metadata": {
        "id": "gqlXsHNBUqRM",
        "colab_type": "code",
        "outputId": "a8931cd5-6b55-43a0-9b54-615c6206d183",
        "colab": {
          "base_uri": "https://localhost:8080/",
          "height": 35
        }
      },
      "source": [
        "!pwd"
      ],
      "execution_count": 0,
      "outputs": [
        {
          "output_type": "stream",
          "text": [
            "/content\n"
          ],
          "name": "stdout"
        }
      ]
    },
    {
      "cell_type": "code",
      "metadata": {
        "id": "l6xBAVrmVqpN",
        "colab_type": "code",
        "outputId": "f59cda30-b1fc-47bc-ddfb-867e264040d2",
        "colab": {
          "base_uri": "https://localhost:8080/",
          "height": 35
        }
      },
      "source": [
        "!ls"
      ],
      "execution_count": 0,
      "outputs": [
        {
          "output_type": "stream",
          "text": [
            "drive  sample_data\n"
          ],
          "name": "stdout"
        }
      ]
    },
    {
      "cell_type": "code",
      "metadata": {
        "id": "hT7i8Zo_V868",
        "colab_type": "code",
        "outputId": "0c81a79f-408d-4538-eb72-cab9aff81304",
        "colab": {
          "base_uri": "https://localhost:8080/",
          "height": 35
        }
      },
      "source": [
        "!mv simhei.ttf \"/usr/share/fonts/truetype\""
      ],
      "execution_count": 0,
      "outputs": [
        {
          "output_type": "stream",
          "text": [
            "mv: cannot stat 'simhei.ttf': No such file or directory\n"
          ],
          "name": "stdout"
        }
      ]
    },
    {
      "cell_type": "markdown",
      "metadata": {
        "id": "1LVPh3qPvoKU",
        "colab_type": "text"
      },
      "source": [
        "# 以下内容用来从github复制内容"
      ]
    },
    {
      "cell_type": "code",
      "metadata": {
        "id": "ytCPq1Fiulh-",
        "colab_type": "code",
        "outputId": "f9de3b5c-91b5-4b25-ca8f-9852f03b0469",
        "colab": {
          "base_uri": "https://localhost:8080/",
          "height": 134
        }
      },
      "source": [
        "!git clone https://github.com/LyWangPX/Reinforcement-Learning-2nd-Edition-by-Sutton-Exercise-Solutions.git"
      ],
      "execution_count": 0,
      "outputs": [
        {
          "output_type": "stream",
          "text": [
            "Cloning into 'Reinforcement-Learning-2nd-Edition-by-Sutton-Exercise-Solutions'...\n",
            "remote: Enumerating objects: 43, done.\u001b[K\n",
            "remote: Counting objects: 100% (43/43), done.\u001b[K\n",
            "remote: Compressing objects: 100% (43/43), done.\u001b[K\n",
            "remote: Total 446 (delta 24), reused 0 (delta 0), pack-reused 403\u001b[K\n",
            "Receiving objects: 100% (446/446), 2.58 MiB | 4.98 MiB/s, done.\n",
            "Resolving deltas: 100% (238/238), done.\n"
          ],
          "name": "stdout"
        }
      ]
    },
    {
      "cell_type": "code",
      "metadata": {
        "id": "MqFRaAvVxxTU",
        "colab_type": "code",
        "outputId": "0a21526e-fe74-476e-fb0a-9fb1d594e606",
        "colab": {
          "base_uri": "https://localhost:8080/",
          "height": 134
        }
      },
      "source": [
        "!git clone https://github.com/mhammond/pywin32.git"
      ],
      "execution_count": 0,
      "outputs": [
        {
          "output_type": "stream",
          "text": [
            "Cloning into 'pywin32'...\n",
            "remote: Enumerating objects: 7, done.\u001b[K\n",
            "remote: Counting objects:  14% (1/7)\u001b[K\rremote: Counting objects:  28% (2/7)\u001b[K\rremote: Counting objects:  42% (3/7)\u001b[K\rremote: Counting objects:  57% (4/7)\u001b[K\rremote: Counting objects:  71% (5/7)\u001b[K\rremote: Counting objects:  85% (6/7)\u001b[K\rremote: Counting objects: 100% (7/7)\u001b[K\rremote: Counting objects: 100% (7/7), done.\u001b[K\n",
            "remote: Compressing objects: 100% (7/7), done.\u001b[K\n",
            "remote: Total 29824 (delta 1), reused 2 (delta 0), pack-reused 29817\u001b[K\n",
            "Receiving objects: 100% (29824/29824), 52.15 MiB | 20.21 MiB/s, done.\n",
            "Resolving deltas: 100% (22304/22304), done.\n"
          ],
          "name": "stdout"
        }
      ]
    },
    {
      "cell_type": "markdown",
      "metadata": {
        "id": "IiklFSCN0evr",
        "colab_type": "text"
      },
      "source": [
        "# 使用scrapy"
      ]
    },
    {
      "cell_type": "code",
      "metadata": {
        "id": "ZrLkibRX043h",
        "colab_type": "code",
        "outputId": "843fc405-8087-4f7d-be3f-8d84fc15692d",
        "colab": {
          "base_uri": "https://localhost:8080/",
          "height": 336
        }
      },
      "source": [
        "!scrapy"
      ],
      "execution_count": 0,
      "outputs": [
        {
          "output_type": "stream",
          "text": [
            "Scrapy 2.0.0 - no active project\n",
            "\n",
            "Usage:\n",
            "  scrapy <command> [options] [args]\n",
            "\n",
            "Available commands:\n",
            "  bench         Run quick benchmark test\n",
            "  fetch         Fetch a URL using the Scrapy downloader\n",
            "  genspider     Generate new spider using pre-defined templates\n",
            "  runspider     Run a self-contained spider (without creating a project)\n",
            "  settings      Get settings values\n",
            "  shell         Interactive scraping console\n",
            "  startproject  Create new project\n",
            "  version       Print Scrapy version\n",
            "  view          Open URL in browser, as seen by Scrapy\n",
            "\n",
            "  [ more ]      More commands available when run from project directory\n",
            "\n",
            "Use \"scrapy <command> -h\" to see more info about a command\n"
          ],
          "name": "stdout"
        }
      ]
    },
    {
      "cell_type": "code",
      "metadata": {
        "id": "NPl_JR9M1psw",
        "colab_type": "code",
        "outputId": "34b7ddaa-0584-4538-80f7-dabf8654ccf7",
        "colab": {
          "base_uri": "https://localhost:8080/",
          "height": 118
        }
      },
      "source": [
        "!scrapy startproject myspider"
      ],
      "execution_count": 0,
      "outputs": [
        {
          "output_type": "stream",
          "text": [
            "New Scrapy project 'myspider', using template directory '/usr/local/lib/python3.6/dist-packages/scrapy/templates/project', created in:\n",
            "    /content/myspider\n",
            "\n",
            "You can start your first spider with:\n",
            "    cd myspider\n",
            "    scrapy genspider example example.com\n"
          ],
          "name": "stdout"
        }
      ]
    },
    {
      "cell_type": "code",
      "metadata": {
        "id": "RJEk-VPa1xO4",
        "colab_type": "code",
        "outputId": "03f14c9f-ecf3-4ab2-e691-4996aab27dea",
        "colab": {
          "base_uri": "https://localhost:8080/",
          "height": 34
        }
      },
      "source": [
        "cd /content/myspider/myspider/spiders/"
      ],
      "execution_count": 0,
      "outputs": [
        {
          "output_type": "stream",
          "text": [
            "/content/myspider/myspider/spiders\n"
          ],
          "name": "stdout"
        }
      ]
    },
    {
      "cell_type": "code",
      "metadata": {
        "id": "9yAFEnmM2Qql",
        "colab_type": "code",
        "outputId": "4296af16-77ee-44b9-a05f-43d79cc7da30",
        "colab": {
          "base_uri": "https://localhost:8080/",
          "height": 50
        }
      },
      "source": [
        "!scrapy genspider novel www.biquge.com"
      ],
      "execution_count": 0,
      "outputs": [
        {
          "output_type": "stream",
          "text": [
            "Created spider 'novel' using template 'basic' in module:\n",
            "  myspider.spiders.novel\n"
          ],
          "name": "stdout"
        }
      ]
    },
    {
      "cell_type": "code",
      "metadata": {
        "id": "Pw06C8rP3ggF",
        "colab_type": "code",
        "outputId": "9d33cca1-3e47-41f6-dff2-9fac0f2ab680",
        "colab": {
          "base_uri": "https://localhost:8080/",
          "height": 34
        }
      },
      "source": [
        "!cd ./spiders"
      ],
      "execution_count": 0,
      "outputs": [
        {
          "output_type": "stream",
          "text": [
            "/bin/bash: line 0: cd: ./spiders: No such file or directory\n"
          ],
          "name": "stdout"
        }
      ]
    },
    {
      "cell_type": "markdown",
      "metadata": {
        "id": "MLlWdBy9SQop",
        "colab_type": "text"
      },
      "source": [
        "# 利用colab下载教学视频"
      ]
    },
    {
      "cell_type": "markdown",
      "metadata": {
        "id": "ZPQNAaSB0o1u",
        "colab_type": "text"
      },
      "source": [
        "## 使用you-get **不成功！！**"
      ]
    },
    {
      "cell_type": "code",
      "metadata": {
        "id": "vf2qVsC_4sGV",
        "colab_type": "code",
        "outputId": "d60f9e2c-24e1-4857-bd10-6c6f400923a8",
        "colab": {
          "base_uri": "https://localhost:8080/",
          "height": 101
        }
      },
      "source": [
        "!pip install you-get"
      ],
      "execution_count": 0,
      "outputs": [
        {
          "output_type": "stream",
          "text": [
            "Collecting you-get\n",
            "\u001b[?25l  Downloading https://files.pythonhosted.org/packages/25/29/33a4ab6986280aa2d2dbb63b568897c091fb75c05173a03cefcff93e10ae/you_get-0.4.1410-py3-none-any.whl (215kB)\n",
            "\r\u001b[K     |█▌                              | 10kB 21.5MB/s eta 0:00:01\r\u001b[K     |███                             | 20kB 1.7MB/s eta 0:00:01\r\u001b[K     |████▋                           | 30kB 2.3MB/s eta 0:00:01\r\u001b[K     |██████                          | 40kB 1.7MB/s eta 0:00:01\r\u001b[K     |███████▋                        | 51kB 1.9MB/s eta 0:00:01\r\u001b[K     |█████████▏                      | 61kB 2.3MB/s eta 0:00:01\r\u001b[K     |██████████▋                     | 71kB 2.5MB/s eta 0:00:01\r\u001b[K     |████████████▏                   | 81kB 2.6MB/s eta 0:00:01\r\u001b[K     |█████████████▊                  | 92kB 3.0MB/s eta 0:00:01\r\u001b[K     |███████████████▎                | 102kB 2.8MB/s eta 0:00:01\r\u001b[K     |████████████████▊               | 112kB 2.8MB/s eta 0:00:01\r\u001b[K     |██████████████████▎             | 122kB 2.8MB/s eta 0:00:01\r\u001b[K     |███████████████████▉            | 133kB 2.8MB/s eta 0:00:01\r\u001b[K     |█████████████████████▎          | 143kB 2.8MB/s eta 0:00:01\r\u001b[K     |██████████████████████▉         | 153kB 2.8MB/s eta 0:00:01\r\u001b[K     |████████████████████████▍       | 163kB 2.8MB/s eta 0:00:01\r\u001b[K     |██████████████████████████      | 174kB 2.8MB/s eta 0:00:01\r\u001b[K     |███████████████████████████▍    | 184kB 2.8MB/s eta 0:00:01\r\u001b[K     |█████████████████████████████   | 194kB 2.8MB/s eta 0:00:01\r\u001b[K     |██████████████████████████████▌ | 204kB 2.8MB/s eta 0:00:01\r\u001b[K     |████████████████████████████████| 215kB 2.8MB/s eta 0:00:01\r\u001b[K     |████████████████████████████████| 225kB 2.8MB/s \n",
            "\u001b[?25hInstalling collected packages: you-get\n",
            "Successfully installed you-get-0.4.1410\n"
          ],
          "name": "stdout"
        }
      ]
    },
    {
      "cell_type": "code",
      "metadata": {
        "id": "TCO4uDAZPbrN",
        "colab_type": "code",
        "outputId": "597b2ad5-6f9b-4d84-eb12-482f3efb9d84",
        "colab": {
          "base_uri": "https://localhost:8080/",
          "height": 336
        }
      },
      "source": [
        "!you-get https://youtu.be/Bms0Fnol5nE"
      ],
      "execution_count": 0,
      "outputs": [
        {
          "output_type": "stream",
          "text": [
            "site:                YouTube\n",
            "title:               Rule of ML 2020\n",
            "stream:\n",
            "    - itag:          \u001b[7m136\u001b[0m\n",
            "      container:     mp4\n",
            "      quality:       1280x720 (720p)\n",
            "      size:          45.9 MiB (48177105 bytes)\n",
            "    # download-with: \u001b[4myou-get --itag=136 [URL]\u001b[0m\n",
            "\n",
            "\u001b[33;1myou-get: [error] oops, something went wrong.\u001b[0m\n",
            "\u001b[33;1myou-get: don't panic, c'est la vie. please try the following steps:\u001b[0m\n",
            "\u001b[33;1myou-get:   (1) Rule out any network problem.\u001b[0m\n",
            "\u001b[33;1myou-get:   (2) Make sure you-get is up-to-date.\u001b[0m\n",
            "\u001b[33;1myou-get:   (3) Check if the issue is already known, on\u001b[0m\n",
            "\u001b[33;1myou-get:         https://github.com/soimort/you-get/wiki/Known-Bugs\u001b[0m\n",
            "\u001b[33;1myou-get:         https://github.com/soimort/you-get/issues\u001b[0m\n",
            "\u001b[33;1myou-get:   (4) Run the command with '--debug' option,\u001b[0m\n",
            "\u001b[33;1myou-get:       and report this issue with the full output.\u001b[0m\n",
            "Downloading Rule of ML 2020.mp4 ...\n"
          ],
          "name": "stdout"
        }
      ]
    },
    {
      "cell_type": "markdown",
      "metadata": {
        "id": "dkCmeS2k-wFF",
        "colab_type": "text"
      },
      "source": [
        "## 利用youtube-dl下载\n",
        "经实验发现可以利用youtube-dl下载。\n",
        "\n",
        "**注意：**直接在colab中下载失败的可能性很高。最好将文件转到googledrive中，在googledrivezhong"
      ]
    },
    {
      "cell_type": "code",
      "metadata": {
        "id": "WDPvHHXawIKv",
        "colab_type": "code",
        "outputId": "c06ddb28-678c-4076-a592-73d555dd2982",
        "colab": {
          "base_uri": "https://localhost:8080/",
          "height": 101
        }
      },
      "source": [
        "!pip install youtube-dl"
      ],
      "execution_count": 0,
      "outputs": [
        {
          "output_type": "stream",
          "text": [
            "Collecting youtube-dl\n",
            "\u001b[?25l  Downloading https://files.pythonhosted.org/packages/f9/e5/089fc0203d8c84a39d1b89fca38cd75c615c378a36a3b60f3be8ddb54b29/youtube_dl-2020.3.6-py2.py3-none-any.whl (1.8MB)\n",
            "\r\u001b[K     |▏                               | 10kB 21.4MB/s eta 0:00:01\r\u001b[K     |▍                               | 20kB 29.1MB/s eta 0:00:01\r\u001b[K     |▌                               | 30kB 34.4MB/s eta 0:00:01\r\u001b[K     |▊                               | 40kB 36.2MB/s eta 0:00:01\r\u001b[K     |█                               | 51kB 37.8MB/s eta 0:00:01\r\u001b[K     |█                               | 61kB 39.2MB/s eta 0:00:01\r\u001b[K     |█▎                              | 71kB 34.8MB/s eta 0:00:01\r\u001b[K     |█▌                              | 81kB 35.1MB/s eta 0:00:01\r\u001b[K     |█▋                              | 92kB 36.3MB/s eta 0:00:01\r\u001b[K     |█▉                              | 102kB 35.9MB/s eta 0:00:01\r\u001b[K     |██                              | 112kB 35.9MB/s eta 0:00:01\r\u001b[K     |██▏                             | 122kB 35.9MB/s eta 0:00:01\r\u001b[K     |██▍                             | 133kB 35.9MB/s eta 0:00:01\r\u001b[K     |██▌                             | 143kB 35.9MB/s eta 0:00:01\r\u001b[K     |██▊                             | 153kB 35.9MB/s eta 0:00:01\r\u001b[K     |███                             | 163kB 35.9MB/s eta 0:00:01\r\u001b[K     |███                             | 174kB 35.9MB/s eta 0:00:01\r\u001b[K     |███▎                            | 184kB 35.9MB/s eta 0:00:01\r\u001b[K     |███▍                            | 194kB 35.9MB/s eta 0:00:01\r\u001b[K     |███▋                            | 204kB 35.9MB/s eta 0:00:01\r\u001b[K     |███▉                            | 215kB 35.9MB/s eta 0:00:01\r\u001b[K     |████                            | 225kB 35.9MB/s eta 0:00:01\r\u001b[K     |████▏                           | 235kB 35.9MB/s eta 0:00:01\r\u001b[K     |████▍                           | 245kB 35.9MB/s eta 0:00:01\r\u001b[K     |████▌                           | 256kB 35.9MB/s eta 0:00:01\r\u001b[K     |████▊                           | 266kB 35.9MB/s eta 0:00:01\r\u001b[K     |████▉                           | 276kB 35.9MB/s eta 0:00:01\r\u001b[K     |█████                           | 286kB 35.9MB/s eta 0:00:01\r\u001b[K     |█████▎                          | 296kB 35.9MB/s eta 0:00:01\r\u001b[K     |█████▍                          | 307kB 35.9MB/s eta 0:00:01\r\u001b[K     |█████▋                          | 317kB 35.9MB/s eta 0:00:01\r\u001b[K     |█████▉                          | 327kB 35.9MB/s eta 0:00:01\r\u001b[K     |██████                          | 337kB 35.9MB/s eta 0:00:01\r\u001b[K     |██████▏                         | 348kB 35.9MB/s eta 0:00:01\r\u001b[K     |██████▎                         | 358kB 35.9MB/s eta 0:00:01\r\u001b[K     |██████▌                         | 368kB 35.9MB/s eta 0:00:01\r\u001b[K     |██████▊                         | 378kB 35.9MB/s eta 0:00:01\r\u001b[K     |██████▉                         | 389kB 35.9MB/s eta 0:00:01\r\u001b[K     |███████                         | 399kB 35.9MB/s eta 0:00:01\r\u001b[K     |███████▎                        | 409kB 35.9MB/s eta 0:00:01\r\u001b[K     |███████▍                        | 419kB 35.9MB/s eta 0:00:01\r\u001b[K     |███████▋                        | 430kB 35.9MB/s eta 0:00:01\r\u001b[K     |███████▊                        | 440kB 35.9MB/s eta 0:00:01\r\u001b[K     |████████                        | 450kB 35.9MB/s eta 0:00:01\r\u001b[K     |████████▏                       | 460kB 35.9MB/s eta 0:00:01\r\u001b[K     |████████▎                       | 471kB 35.9MB/s eta 0:00:01\r\u001b[K     |████████▌                       | 481kB 35.9MB/s eta 0:00:01\r\u001b[K     |████████▊                       | 491kB 35.9MB/s eta 0:00:01\r\u001b[K     |████████▉                       | 501kB 35.9MB/s eta 0:00:01\r\u001b[K     |█████████                       | 512kB 35.9MB/s eta 0:00:01\r\u001b[K     |█████████▏                      | 522kB 35.9MB/s eta 0:00:01\r\u001b[K     |█████████▍                      | 532kB 35.9MB/s eta 0:00:01\r\u001b[K     |█████████▋                      | 542kB 35.9MB/s eta 0:00:01\r\u001b[K     |█████████▊                      | 552kB 35.9MB/s eta 0:00:01\r\u001b[K     |██████████                      | 563kB 35.9MB/s eta 0:00:01\r\u001b[K     |██████████▏                     | 573kB 35.9MB/s eta 0:00:01\r\u001b[K     |██████████▎                     | 583kB 35.9MB/s eta 0:00:01\r\u001b[K     |██████████▌                     | 593kB 35.9MB/s eta 0:00:01\r\u001b[K     |██████████▋                     | 604kB 35.9MB/s eta 0:00:01\r\u001b[K     |██████████▉                     | 614kB 35.9MB/s eta 0:00:01\r\u001b[K     |███████████                     | 624kB 35.9MB/s eta 0:00:01\r\u001b[K     |███████████▏                    | 634kB 35.9MB/s eta 0:00:01\r\u001b[K     |███████████▍                    | 645kB 35.9MB/s eta 0:00:01\r\u001b[K     |███████████▋                    | 655kB 35.9MB/s eta 0:00:01\r\u001b[K     |███████████▊                    | 665kB 35.9MB/s eta 0:00:01\r\u001b[K     |████████████                    | 675kB 35.9MB/s eta 0:00:01\r\u001b[K     |████████████                    | 686kB 35.9MB/s eta 0:00:01\r\u001b[K     |████████████▎                   | 696kB 35.9MB/s eta 0:00:01\r\u001b[K     |████████████▌                   | 706kB 35.9MB/s eta 0:00:01\r\u001b[K     |████████████▋                   | 716kB 35.9MB/s eta 0:00:01\r\u001b[K     |████████████▉                   | 727kB 35.9MB/s eta 0:00:01\r\u001b[K     |█████████████                   | 737kB 35.9MB/s eta 0:00:01\r\u001b[K     |█████████████▏                  | 747kB 35.9MB/s eta 0:00:01\r\u001b[K     |█████████████▍                  | 757kB 35.9MB/s eta 0:00:01\r\u001b[K     |█████████████▌                  | 768kB 35.9MB/s eta 0:00:01\r\u001b[K     |█████████████▊                  | 778kB 35.9MB/s eta 0:00:01\r\u001b[K     |██████████████                  | 788kB 35.9MB/s eta 0:00:01\r\u001b[K     |██████████████                  | 798kB 35.9MB/s eta 0:00:01\r\u001b[K     |██████████████▎                 | 808kB 35.9MB/s eta 0:00:01\r\u001b[K     |██████████████▌                 | 819kB 35.9MB/s eta 0:00:01\r\u001b[K     |██████████████▋                 | 829kB 35.9MB/s eta 0:00:01\r\u001b[K     |██████████████▉                 | 839kB 35.9MB/s eta 0:00:01\r\u001b[K     |███████████████                 | 849kB 35.9MB/s eta 0:00:01\r\u001b[K     |███████████████▏                | 860kB 35.9MB/s eta 0:00:01\r\u001b[K     |███████████████▍                | 870kB 35.9MB/s eta 0:00:01\r\u001b[K     |███████████████▌                | 880kB 35.9MB/s eta 0:00:01\r\u001b[K     |███████████████▊                | 890kB 35.9MB/s eta 0:00:01\r\u001b[K     |████████████████                | 901kB 35.9MB/s eta 0:00:01\r\u001b[K     |████████████████                | 911kB 35.9MB/s eta 0:00:01\r\u001b[K     |████████████████▎               | 921kB 35.9MB/s eta 0:00:01\r\u001b[K     |████████████████▍               | 931kB 35.9MB/s eta 0:00:01\r\u001b[K     |████████████████▋               | 942kB 35.9MB/s eta 0:00:01\r\u001b[K     |████████████████▉               | 952kB 35.9MB/s eta 0:00:01\r\u001b[K     |█████████████████               | 962kB 35.9MB/s eta 0:00:01\r\u001b[K     |█████████████████▏              | 972kB 35.9MB/s eta 0:00:01\r\u001b[K     |█████████████████▍              | 983kB 35.9MB/s eta 0:00:01\r\u001b[K     |█████████████████▌              | 993kB 35.9MB/s eta 0:00:01\r\u001b[K     |█████████████████▊              | 1.0MB 35.9MB/s eta 0:00:01\r\u001b[K     |█████████████████▉              | 1.0MB 35.9MB/s eta 0:00:01\r\u001b[K     |██████████████████              | 1.0MB 35.9MB/s eta 0:00:01\r\u001b[K     |██████████████████▎             | 1.0MB 35.9MB/s eta 0:00:01\r\u001b[K     |██████████████████▍             | 1.0MB 35.9MB/s eta 0:00:01\r\u001b[K     |██████████████████▋             | 1.1MB 35.9MB/s eta 0:00:01\r\u001b[K     |██████████████████▉             | 1.1MB 35.9MB/s eta 0:00:01\r\u001b[K     |███████████████████             | 1.1MB 35.9MB/s eta 0:00:01\r\u001b[K     |███████████████████▏            | 1.1MB 35.9MB/s eta 0:00:01\r\u001b[K     |███████████████████▎            | 1.1MB 35.9MB/s eta 0:00:01\r\u001b[K     |███████████████████▌            | 1.1MB 35.9MB/s eta 0:00:01\r\u001b[K     |███████████████████▊            | 1.1MB 35.9MB/s eta 0:00:01\r\u001b[K     |███████████████████▉            | 1.1MB 35.9MB/s eta 0:00:01\r\u001b[K     |████████████████████            | 1.1MB 35.9MB/s eta 0:00:01\r\u001b[K     |████████████████████▎           | 1.1MB 35.9MB/s eta 0:00:01\r\u001b[K     |████████████████████▍           | 1.2MB 35.9MB/s eta 0:00:01\r\u001b[K     |████████████████████▋           | 1.2MB 35.9MB/s eta 0:00:01\r\u001b[K     |████████████████████▊           | 1.2MB 35.9MB/s eta 0:00:01\r\u001b[K     |█████████████████████           | 1.2MB 35.9MB/s eta 0:00:01\r\u001b[K     |█████████████████████▏          | 1.2MB 35.9MB/s eta 0:00:01\r\u001b[K     |█████████████████████▎          | 1.2MB 35.9MB/s eta 0:00:01\r\u001b[K     |█████████████████████▌          | 1.2MB 35.9MB/s eta 0:00:01\r\u001b[K     |█████████████████████▊          | 1.2MB 35.9MB/s eta 0:00:01\r\u001b[K     |█████████████████████▉          | 1.2MB 35.9MB/s eta 0:00:01\r\u001b[K     |██████████████████████          | 1.2MB 35.9MB/s eta 0:00:01\r\u001b[K     |██████████████████████▏         | 1.3MB 35.9MB/s eta 0:00:01\r\u001b[K     |██████████████████████▍         | 1.3MB 35.9MB/s eta 0:00:01\r\u001b[K     |██████████████████████▋         | 1.3MB 35.9MB/s eta 0:00:01\r\u001b[K     |██████████████████████▊         | 1.3MB 35.9MB/s eta 0:00:01\r\u001b[K     |███████████████████████         | 1.3MB 35.9MB/s eta 0:00:01\r\u001b[K     |███████████████████████▏        | 1.3MB 35.9MB/s eta 0:00:01\r\u001b[K     |███████████████████████▎        | 1.3MB 35.9MB/s eta 0:00:01\r\u001b[K     |███████████████████████▌        | 1.3MB 35.9MB/s eta 0:00:01\r\u001b[K     |███████████████████████▋        | 1.3MB 35.9MB/s eta 0:00:01\r\u001b[K     |███████████████████████▉        | 1.4MB 35.9MB/s eta 0:00:01\r\u001b[K     |████████████████████████        | 1.4MB 35.9MB/s eta 0:00:01\r\u001b[K     |████████████████████████▏       | 1.4MB 35.9MB/s eta 0:00:01\r\u001b[K     |████████████████████████▍       | 1.4MB 35.9MB/s eta 0:00:01\r\u001b[K     |████████████████████████▋       | 1.4MB 35.9MB/s eta 0:00:01\r\u001b[K     |████████████████████████▊       | 1.4MB 35.9MB/s eta 0:00:01\r\u001b[K     |█████████████████████████       | 1.4MB 35.9MB/s eta 0:00:01\r\u001b[K     |█████████████████████████       | 1.4MB 35.9MB/s eta 0:00:01\r\u001b[K     |█████████████████████████▎      | 1.4MB 35.9MB/s eta 0:00:01\r\u001b[K     |█████████████████████████▌      | 1.4MB 35.9MB/s eta 0:00:01\r\u001b[K     |█████████████████████████▋      | 1.5MB 35.9MB/s eta 0:00:01\r\u001b[K     |█████████████████████████▉      | 1.5MB 35.9MB/s eta 0:00:01\r\u001b[K     |██████████████████████████      | 1.5MB 35.9MB/s eta 0:00:01\r\u001b[K     |██████████████████████████▏     | 1.5MB 35.9MB/s eta 0:00:01\r\u001b[K     |██████████████████████████▍     | 1.5MB 35.9MB/s eta 0:00:01\r\u001b[K     |██████████████████████████▌     | 1.5MB 35.9MB/s eta 0:00:01\r\u001b[K     |██████████████████████████▊     | 1.5MB 35.9MB/s eta 0:00:01\r\u001b[K     |███████████████████████████     | 1.5MB 35.9MB/s eta 0:00:01\r\u001b[K     |███████████████████████████     | 1.5MB 35.9MB/s eta 0:00:01\r\u001b[K     |███████████████████████████▎    | 1.5MB 35.9MB/s eta 0:00:01\r\u001b[K     |███████████████████████████▌    | 1.6MB 35.9MB/s eta 0:00:01\r\u001b[K     |███████████████████████████▋    | 1.6MB 35.9MB/s eta 0:00:01\r\u001b[K     |███████████████████████████▉    | 1.6MB 35.9MB/s eta 0:00:01\r\u001b[K     |████████████████████████████    | 1.6MB 35.9MB/s eta 0:00:01\r\u001b[K     |████████████████████████████▏   | 1.6MB 35.9MB/s eta 0:00:01\r\u001b[K     |████████████████████████████▍   | 1.6MB 35.9MB/s eta 0:00:01\r\u001b[K     |████████████████████████████▌   | 1.6MB 35.9MB/s eta 0:00:01\r\u001b[K     |████████████████████████████▊   | 1.6MB 35.9MB/s eta 0:00:01\r\u001b[K     |█████████████████████████████   | 1.6MB 35.9MB/s eta 0:00:01\r\u001b[K     |█████████████████████████████   | 1.6MB 35.9MB/s eta 0:00:01\r\u001b[K     |█████████████████████████████▎  | 1.7MB 35.9MB/s eta 0:00:01\r\u001b[K     |█████████████████████████████▍  | 1.7MB 35.9MB/s eta 0:00:01\r\u001b[K     |█████████████████████████████▋  | 1.7MB 35.9MB/s eta 0:00:01\r\u001b[K     |█████████████████████████████▉  | 1.7MB 35.9MB/s eta 0:00:01\r\u001b[K     |██████████████████████████████  | 1.7MB 35.9MB/s eta 0:00:01\r\u001b[K     |██████████████████████████████▏ | 1.7MB 35.9MB/s eta 0:00:01\r\u001b[K     |██████████████████████████████▍ | 1.7MB 35.9MB/s eta 0:00:01\r\u001b[K     |██████████████████████████████▌ | 1.7MB 35.9MB/s eta 0:00:01\r\u001b[K     |██████████████████████████████▊ | 1.7MB 35.9MB/s eta 0:00:01\r\u001b[K     |██████████████████████████████▉ | 1.8MB 35.9MB/s eta 0:00:01\r\u001b[K     |███████████████████████████████ | 1.8MB 35.9MB/s eta 0:00:01\r\u001b[K     |███████████████████████████████▎| 1.8MB 35.9MB/s eta 0:00:01\r\u001b[K     |███████████████████████████████▍| 1.8MB 35.9MB/s eta 0:00:01\r\u001b[K     |███████████████████████████████▋| 1.8MB 35.9MB/s eta 0:00:01\r\u001b[K     |███████████████████████████████▉| 1.8MB 35.9MB/s eta 0:00:01\r\u001b[K     |████████████████████████████████| 1.8MB 35.9MB/s eta 0:00:01\r\u001b[K     |████████████████████████████████| 1.8MB 35.9MB/s \n",
            "\u001b[?25hInstalling collected packages: youtube-dl\n",
            "Successfully installed youtube-dl-2020.3.6\n"
          ],
          "name": "stdout"
        }
      ]
    },
    {
      "cell_type": "code",
      "metadata": {
        "id": "C_SByhK9wszK",
        "colab_type": "code",
        "outputId": "7e8dc0ef-5d2b-47be-ae49-6c65de7fc9cb",
        "colab": {
          "base_uri": "https://localhost:8080/",
          "height": 218
        }
      },
      "source": [
        "!youtube-dl https://youtu.be/1_HBTJyWgNA"
      ],
      "execution_count": 0,
      "outputs": [
        {
          "output_type": "stream",
          "text": [
            "[youtube] 1_HBTJyWgNA: Downloading webpage\n",
            "[youtube] 1_HBTJyWgNA: Downloading video info webpage\n",
            "[youtube] 1_HBTJyWgNA: Downloading MPD manifest\n",
            "[dashsegments] Total fragments: 32\n",
            "[download] Destination: ML Lecture 3-2 - Gradient Descent (Demo by AOE)-1_HBTJyWgNA.f247.webm\n",
            "\u001b[K[download] 100% of 6.37MiB in 00:26\n",
            "[dashsegments] Total fragments: 17\n",
            "[download] Destination: ML Lecture 3-2 - Gradient Descent (Demo by AOE)-1_HBTJyWgNA.f251.webm\n",
            "\u001b[K[download] 100% of 3.17MiB in 00:00\n",
            "[ffmpeg] Merging formats into \"ML Lecture 3-2 - Gradient Descent (Demo by AOE)-1_HBTJyWgNA.webm\"\n",
            "Deleting original file ML Lecture 3-2 - Gradient Descent (Demo by AOE)-1_HBTJyWgNA.f247.webm (pass -k to keep)\n",
            "Deleting original file ML Lecture 3-2 - Gradient Descent (Demo by AOE)-1_HBTJyWgNA.f251.webm (pass -k to keep)\n"
          ],
          "name": "stdout"
        }
      ]
    },
    {
      "cell_type": "markdown",
      "metadata": {
        "id": "LkTFpuJ1Rple",
        "colab_type": "text"
      },
      "source": [
        "## 文件分割／合并"
      ]
    },
    {
      "cell_type": "code",
      "metadata": {
        "id": "5jFytBdcmi24",
        "colab_type": "code",
        "outputId": "452a757f-69a4-4974-cb58-86a1753c765f",
        "colab": {
          "base_uri": "https://localhost:8080/",
          "height": 34
        }
      },
      "source": [
        "!dir ML\\ Lecture\\ 2\\ -\\ Where\\ does\\ the\\ error\\ come\\ from-D_S6y0Jm6dQ.webm"
      ],
      "execution_count": 0,
      "outputs": [
        {
          "output_type": "stream",
          "text": [
            "ML\\ Lecture\\ 2\\ -\\ Where\\ does\\ the\\ error\\ come\\ from-D_S6y0Jm6dQ.webm\n"
          ],
          "name": "stdout"
        }
      ]
    },
    {
      "cell_type": "code",
      "metadata": {
        "id": "IlzvwHVATWy-",
        "colab_type": "code",
        "colab": {}
      },
      "source": [
        "import os\n",
        "\n",
        "# FILE_DIR = os.path.dirname(os.path.abspath(__file__))\n",
        "kilobytes = 1024\n",
        "megabytes = kilobytes*1024\n",
        "\n",
        "def file_chunkspilt(path, filename, chunksize_in_MByte):\n",
        "    '''\n",
        "    文件按照数据块大小分割为多个子文件\n",
        "    INPUT  -> 文件目录, 文件名, 每个数据块大小\n",
        "    '''\n",
        "    if chunksize_in_MByte > 0:\n",
        "      filepath = path+'/'+filename\n",
        "      partnum = 0\n",
        "      with open(filepath, 'rb') as inputfile:\n",
        "        while True:\n",
        "          chunk = inputfile.read(chunksize_in_MByte)\n",
        "          if not chunk:\n",
        "            break\n",
        "          partnum += 1\n",
        "          newfilename = os.path.join(path, (filename+'_%04d' % partnum))\n",
        "          with open(newfilename, 'wb') as sub_file:\n",
        "            sub_file.write(chunk)\n",
        "    else:\n",
        "      print('chunksize_in_MByte must bigger than 0!')\n",
        "\n",
        "filename = 'Rule of ML 2020-Bms0Fnol5nE.mp4'\n",
        "chunksize = 10\n",
        "file_chunkspilt(path='.', filename=filename, chunksize_in_MByte=chunksize*megabytes)"
      ],
      "execution_count": 0,
      "outputs": []
    },
    {
      "cell_type": "code",
      "metadata": {
        "id": "zRhG0yIUWZKJ",
        "colab_type": "code",
        "outputId": "6e3811e3-a303-45c5-d07b-9d64ad65e326",
        "colab": {
          "base_uri": "https://localhost:8080/",
          "height": 34
        }
      },
      "source": [
        "!youtube-dl --dump-user-agent"
      ],
      "execution_count": 0,
      "outputs": [
        {
          "output_type": "stream",
          "text": [
            "Mozilla/5.0 (Windows NT 10.0; Win64; x64) AppleWebKit/537.36 (KHTML, like Gecko) Chrome/73.0.3678.1 Safari/537.36\n"
          ],
          "name": "stdout"
        }
      ]
    },
    {
      "cell_type": "code",
      "metadata": {
        "id": "R18zGVL5WdNK",
        "colab_type": "code",
        "outputId": "12e0cd3e-6549-411b-8d37-562406b5522c",
        "colab": {
          "base_uri": "https://localhost:8080/",
          "height": 34
        }
      },
      "source": [
        "!youtube-dl --list-extractors"
      ],
      "execution_count": 0,
      "outputs": [
        {
          "output_type": "stream",
          "text": [
            "/bin/bash: youtube-dl: command not found\n"
          ],
          "name": "stdout"
        }
      ]
    },
    {
      "cell_type": "code",
      "metadata": {
        "id": "-B7hb4TyXgsc",
        "colab_type": "code",
        "colab": {}
      },
      "source": [
        ""
      ],
      "execution_count": 0,
      "outputs": []
    }
  ]
}